{
 "cells": [
  {
   "cell_type": "code",
   "execution_count": 1,
   "id": "6b3c0491",
   "metadata": {},
   "outputs": [],
   "source": [
    "import os\n",
    "import numpy as np\n",
    "import matplotlib.pyplot as plt\n",
    "import ipywidgets as wdg\n",
    "import time\n",
    "from IPython import display\n",
    "from glob import glob\n",
    "import cv2"
   ]
  },
  {
   "cell_type": "code",
   "execution_count": 2,
   "id": "2ed349b6",
   "metadata": {},
   "outputs": [],
   "source": [
    "#Busqueda y creacion del directorio del output\n",
    "def create_dir(path):\n",
    "    try:\n",
    "        if not os.path.exists(path):\n",
    "            os.makedirs(path)\n",
    "    except OSError:\n",
    "        print(f\"ERROR: creating directory with name {path}\")\n",
    "\n"
   ]
  },
  {
   "cell_type": "code",
   "execution_count": 3,
   "id": "6199fb2b",
   "metadata": {},
   "outputs": [],
   "source": [
    "def calculate_corrcoef(frameBW, frame_ant):\n",
    "    arr1 = np.asarray(frameBW)           \n",
    "    arr2 = np.asarray(frame_ant)\n",
    "    try:\n",
    "        corrcoef = np.corrcoef(arr1.flat,arr2.flat)[1,0]\n",
    "    except FloatingPointError:\n",
    "        print('Error has been raised')\n",
    "    return corrcoef"
   ]
  },
  {
   "cell_type": "code",
   "execution_count": 4,
   "id": "05fc0d23",
   "metadata": {},
   "outputs": [],
   "source": [
    "def View_Progress(x,Max_length):\n",
    "        Output = wdg.IntProgress(\n",
    "        value = x,\n",
    "        min=0,\n",
    "        max=Max_length,\n",
    "        description='Loading:',\n",
    "        bar_style='', # 'success', 'info', 'warning', 'danger' or ''\n",
    "        style={'bar_color': 'maroon'},\n",
    "        orientation='horizontal'\n",
    "        )\n",
    "        return Output"
   ]
  },
  {
   "cell_type": "code",
   "execution_count": 5,
   "id": "ee8af7ea",
   "metadata": {},
   "outputs": [],
   "source": [
    "def Count_frame(video_path):\n",
    "    \n",
    "    cap = cv2.VideoCapture(video_path)\n",
    "    \n",
    "    idx = 0\n",
    "    while True:\n",
    "        ret, frame = cap.read()\n",
    "        if idx == 0:\n",
    "            height, width  = frame.shape[:2]\n",
    "        if ret == False:\n",
    "            cap.release()\n",
    "            break\n",
    "        idx += 1\n",
    "    return idx, height, width"
   ]
  },
  {
   "cell_type": "code",
   "execution_count": 6,
   "id": "f5a09bfc",
   "metadata": {},
   "outputs": [],
   "source": [
    "def Show_Cantframes(length, length_sum, save_path):\n",
    " \n",
    "    Porcentaje = (100*length_sum)/length\n",
    "    ## Declaramos valores para el eje x\n",
    "    eje_x = ['Original :'+str(length), 'Resumen :'+str(length_sum)]\n",
    "\n",
    "    ## Declaramos valores para el eje y\n",
    "    eje_y = [length,length_sum]\n",
    "\n",
    "    ## Creamos Gráfica\n",
    "    plt.bar(eje_x, eje_y)\n",
    "\n",
    "    ## Legenda en el eje y\n",
    "    plt.ylabel('Cantidad de fotogramas')\n",
    "\n",
    "    ## Legenda en el eje x\n",
    "    plt.xlabel('video')\n",
    "\n",
    "    ## Título de Gráfica\n",
    "    plt.title('Porcentaje de fotogramas resumidos: '+str(Porcentaje))\n",
    "\n",
    "    ## Mostramos Gráfica\n",
    "    plt.savefig(f\"{save_path}/Diagram.png\")\n",
    "    \n",
    "    plt.cla()\n",
    "\n",
    "    print(\"Porcentaje de fotogramas reducidos: \"+str(Porcentaje))"
   ]
  },
  {
   "cell_type": "code",
   "execution_count": 7,
   "id": "9e58dbc0",
   "metadata": {},
   "outputs": [],
   "source": [
    "\n",
    "def save_frame(video_path, save_dir, esti_error):\n",
    "    name = video_path.split(\"\\\\\")[-1].split(\".\")[0]\n",
    "    save_path = os.path.join(save_dir, name)\n",
    "    create_dir(save_path)\n",
    "    display.clear_output(wait=True)\n",
    "    cap = cv2.VideoCapture(video_path)    \n",
    "    frame_ant = []    \n",
    "    corrcoef_def = 1 - (esti_error)\n",
    "    corrcoef = 0\n",
    "    length, height, width = Count_frame(video_path)\n",
    "    video = cv2.VideoWriter(f\"{save_path}/{name}.mp4\", cv2.VideoWriter_fourcc(*'mp4v'), 4, (width,height))\n",
    "    idx = 0\n",
    "    length_sum = 0\n",
    "    while True:\n",
    "        #Verificar y leer cada frame del video\n",
    "        ret, frame = cap.read()                \n",
    "        # Condicional en caso no exista mas frames a leer\n",
    "        if ret == False:\n",
    "            cap.release()\n",
    "            break\n",
    "        #Conversion de frame de RGB a Escala de grises    \n",
    "        frameBW = cv2.cvtColor(frame, cv2.COLOR_BGR2GRAY)\n",
    "       \n",
    "        #Cantidad de frames que vamos a guardar filtrado por la correlacion de pearson        \n",
    "        if idx == 0:           \n",
    "            cv2.imwrite(f\"{save_path}/{idx}.png\", frame)\n",
    "            video.write(frame)\n",
    "            length_sum += 1\n",
    "        if idx > 0:\n",
    "            corrcoef = calculate_corrcoef(frameBW, frame_ant)\n",
    "            #Comparacion entre pares de frames consecutivos\n",
    "            if corrcoef <= corrcoef_def:           \n",
    "                cv2.imwrite(f\"{save_path}/{idx}.png\", frame)\n",
    "                video.write(frame)\n",
    "                length_sum += 1\n",
    "        frame_ant = frameBW \n",
    "        Output = View_Progress(idx,length)       \n",
    "        display.display(Output) \n",
    "        display.clear_output(wait=True)\n",
    "        time.sleep(0.05)   \n",
    "        idx += 1\n",
    "        \n",
    "\n",
    "    video.release()    \n",
    "    \n",
    "    Show_Cantframes(idx, length_sum, save_path)"
   ]
  },
  {
   "cell_type": "code",
   "execution_count": 8,
   "id": "bba81d9f",
   "metadata": {},
   "outputs": [],
   "source": [
    "def Capture_inf():\n",
    "    Input = wdg.BoundedFloatText(\n",
    "    value=0.5,\n",
    "    min=0,\n",
    "    max=1.0,\n",
    "    step=0.1,\n",
    "    description='Esti_Error:',\n",
    "    disabled=False\n",
    "    )\n",
    "    button = wdg.Button(description=\"Resume!\",disabled=False)\n",
    "    output = wdg.Output()\n",
    "    \n",
    "    def on_button_clicked(b):\n",
    "        with output:\n",
    "            video_paths = glob(\"Videos/*\")\n",
    "            save_dir = \"save\"\n",
    "            error = float(Input.value)\n",
    "            \n",
    "            for path in video_paths:\n",
    "                save_frame(path, save_dir, error)\n",
    "    \n",
    "    display.display(Input, button, output)\n",
    "    button.on_click(on_button_clicked)\n",
    "    \n",
    "    \n"
   ]
  },
  {
   "cell_type": "code",
   "execution_count": 9,
   "id": "ed099859",
   "metadata": {
    "scrolled": true
   },
   "outputs": [
    {
     "data": {
      "application/vnd.jupyter.widget-view+json": {
       "model_id": "f8929ee83c034c279bee89d32f2c7035",
       "version_major": 2,
       "version_minor": 0
      },
      "text/plain": [
       "BoundedFloatText(value=0.5, description='Esti_Error:', max=1.0, step=0.1)"
      ]
     },
     "metadata": {},
     "output_type": "display_data"
    },
    {
     "data": {
      "application/vnd.jupyter.widget-view+json": {
       "model_id": "d4487d3efd1d48f383e164f716976c7b",
       "version_major": 2,
       "version_minor": 0
      },
      "text/plain": [
       "Button(description='Resume!', style=ButtonStyle())"
      ]
     },
     "metadata": {},
     "output_type": "display_data"
    },
    {
     "data": {
      "application/vnd.jupyter.widget-view+json": {
       "model_id": "76a7448adb7c4a69a0262ddc275035f5",
       "version_major": 2,
       "version_minor": 0
      },
      "text/plain": [
       "Output()"
      ]
     },
     "metadata": {},
     "output_type": "display_data"
    }
   ],
   "source": [
    "# Introduzca el error y resuma los videos\n",
    "if __name__== \"__main__\":\n",
    "    Capture_inf()\n",
    "       "
   ]
  },
  {
   "cell_type": "code",
   "execution_count": null,
   "id": "ceeac622",
   "metadata": {},
   "outputs": [],
   "source": []
  }
 ],
 "metadata": {
  "kernelspec": {
   "display_name": "Python 3 (ipykernel)",
   "language": "python",
   "name": "python3"
  },
  "language_info": {
   "codemirror_mode": {
    "name": "ipython",
    "version": 3
   },
   "file_extension": ".py",
   "mimetype": "text/x-python",
   "name": "python",
   "nbconvert_exporter": "python",
   "pygments_lexer": "ipython3",
   "version": "3.7.9"
  }
 },
 "nbformat": 4,
 "nbformat_minor": 5
}
