{
 "cells": [
  {
   "cell_type": "code",
   "execution_count": 1,
   "id": "1321102f",
   "metadata": {},
   "outputs": [],
   "source": [
    "import os\n",
    "import numpy as np\n",
    "import cv2\n",
    "import matplotlib.pyplot as plt\n",
    "import tensorflow as tf\n",
    "from glob import glob\n",
    "import ipywidgets as wdg\n",
    "import time\n",
    "from IPython import display\n",
    "from scipy import signal\n",
    "import copy as cp\n",
    "import random\n",
    "import collections"
   ]
  },
  {
   "cell_type": "code",
   "execution_count": 2,
   "id": "0d19e18e",
   "metadata": {},
   "outputs": [],
   "source": [
    "#Busqueda y creacion del directorio del output\n",
    "def create_dir(path):\n",
    "    try:\n",
    "        if not os.path.exists(path):\n",
    "            os.makedirs(path)\n",
    "    except OSError:\n",
    "        print(f\"ERROR: creating directory with name {path}\")"
   ]
  },
  {
   "cell_type": "code",
   "execution_count": 3,
   "id": "e10dc27c",
   "metadata": {},
   "outputs": [],
   "source": [
    "def video_size(video_path):\n",
    "    \n",
    "    cap = cv2.VideoCapture(video_path)\n",
    "    ret, frame = cap.read()\n",
    "    height, width  = frame.shape[:2]\n",
    "    \n",
    "    return height, width"
   ]
  },
  {
   "cell_type": "code",
   "execution_count": 4,
   "id": "85f56285",
   "metadata": {},
   "outputs": [],
   "source": [
    "def histograma_3D(frame):\n",
    "\n",
    "    color = ('b','g','r')\n",
    "    hist = np.arange(0)\n",
    "    for i, c in enumerate(color):\n",
    "        c_hist = cv2.calcHist([frame], [i], None, [256], [0, 256])\n",
    "        hist = np.append(hist, c_hist)   \n",
    "    return hist"
   ]
  },
  {
   "cell_type": "code",
   "execution_count": 5,
   "id": "0a88ed99",
   "metadata": {},
   "outputs": [],
   "source": [
    "def average(video_path):\n",
    "    min_dist = 0\n",
    "    max_dist = 0\n",
    "    avg = 0\n",
    "    cap = cv2.VideoCapture(video_path)\n",
    "    hist_ant = []\n",
    "    idx = 0\n",
    "    M_hist = np.array([])\n",
    "    while True:\n",
    "        ret, frame = cap.read()              \n",
    "        # Condicional en caso no exista mas frames a leer\n",
    "        if ret == False:\n",
    "            cap.release()\n",
    "            break\n",
    "        #Cantidad de frames que vamos a guardar filtrado por la correlacion de pearson             \n",
    "        hist = histograma_3D(frame)  \n",
    "        if idx > 0:\n",
    "            dist_euc = np.linalg.norm(hist-hist_ant)\n",
    "            if idx == 1:\n",
    "                min_dist = dist_euc\n",
    "            else:\n",
    "                if min_dist > dist_euc:\n",
    "                    min_dist = dist_euc    \n",
    "                elif max_dist < dist_euc:\n",
    "                    max_dist = dist_euc      \n",
    "        hist_ant = hist\n",
    "        idx += 1\n",
    "        \n",
    "    avg = (min_dist+max_dist)/2\n",
    "    return avg\n",
    "    "
   ]
  },
  {
   "cell_type": "code",
   "execution_count": 6,
   "id": "048869e4",
   "metadata": {},
   "outputs": [],
   "source": [
    "def Show_Cantframes(length, length_sum, save_path):\n",
    " \n",
    "    Porcentaje = (100*length_sum)/length\n",
    "    ## Declaramos valores para el eje x\n",
    "    eje_x = ['Original :'+str(length), 'Resumen :'+str(length_sum)]\n",
    "\n",
    "    ## Declaramos valores para el eje y\n",
    "    eje_y = [length,length_sum]\n",
    "\n",
    "    ## Creamos Gráfica\n",
    "    plt.bar(eje_x, eje_y)\n",
    "\n",
    "    ## Legenda en el eje y\n",
    "    plt.ylabel('Cantidad de fotogramas')\n",
    "\n",
    "    ## Legenda en el eje x\n",
    "    plt.xlabel('video')\n",
    "\n",
    "    ## Título de Gráfica\n",
    "    plt.title('Cantidad de fotogramas por video')\n",
    "\n",
    "    ## Mostramos Gráfica\n",
    "    plt.savefig(f\"{save_path}/Diagram.png\")\n",
    "    \n",
    "    plt.cla()\n",
    "\n",
    "    print(\"Porcentaje de fotogramas reducidos: \"+str(Porcentaje))"
   ]
  },
  {
   "cell_type": "code",
   "execution_count": 7,
   "id": "6abd892b",
   "metadata": {},
   "outputs": [],
   "source": [
    "def save_frame(video_path, save_dir):\n",
    "    name = video_path.split(\"\\\\\")[-1].split(\".\")[0]\n",
    "    save_path = os.path.join(save_dir, name)\n",
    "    create_dir(save_path)\n",
    "\n",
    "    cap = cv2.VideoCapture(video_path)\n",
    "    video_size(video_path)\n",
    "    #Guardado de fotograma e histograma\n",
    "    height, width = video_size(video_path)\n",
    "    video = cv2.VideoWriter(f\"{save_path}/{name}.mp4\", cv2.VideoWriter_fourcc(*'mp4v'), 2, (width,height))\n",
    "    idx = 0\n",
    "    avg = average(video_path)\n",
    "    length_sum = 0\n",
    "    while True:\n",
    "        #Verificar y leer cada frame del video\n",
    "        ret, frame = cap.read()                \n",
    "        # Condicional en caso no exista mas frames a leer\n",
    "        if ret == False:\n",
    "            cap.release()\n",
    "            break\n",
    "        #Cantidad de frames que vamos a guardar filtrado por la correlacion de pearson        \n",
    "        if idx == 0:           \n",
    "            cv2.imwrite(f\"{save_path}/{idx}.png\", frame)\n",
    "            video.write(frame)\n",
    "            semilla = histograma_3D(frame)\n",
    "            length_sum += 1\n",
    "        if idx > 0:\n",
    "            hist = histograma_3D(frame)\n",
    "            dist = np.linalg.norm(semilla-hist)\n",
    "            #Comparacion entre pares de frames consecutivos\n",
    "            if dist > avg:\n",
    "                cv2.imwrite(f\"{save_path}/{idx}.png\", frame)\n",
    "                video.write(frame)\n",
    "                semilla = hist\n",
    "                length_sum += 1    \n",
    "        frame_ant = frame\n",
    "        idx += 1\n",
    "    video.release()\n",
    "    Show_Cantframes(idx, length_sum, save_path)"
   ]
  },
  {
   "cell_type": "code",
   "execution_count": 8,
   "id": "94cb742a",
   "metadata": {},
   "outputs": [
    {
     "name": "stdout",
     "output_type": "stream",
     "text": [
      "Porcentaje de fotogramas reducidos: 0.3539454507599417\n",
      "Porcentaje de fotogramas reducidos: 0.08017638805371818\n",
      "Porcentaje de fotogramas reducidos: 0.45454545454545453\n",
      "Porcentaje de fotogramas reducidos: 0.08504847763225039\n",
      "Porcentaje de fotogramas reducidos: 0.22406453058480844\n",
      "Porcentaje de fotogramas reducidos: 0.0678195998643608\n",
      "Porcentaje de fotogramas reducidos: 0.6405329233922623\n",
      "Porcentaje de fotogramas reducidos: 0.20040080160320642\n",
      "Porcentaje de fotogramas reducidos: 0.22508696541845713\n",
      "Porcentaje de fotogramas reducidos: 0.3125\n",
      "Porcentaje de fotogramas reducidos: 1.0012515644555695\n",
      "Porcentaje de fotogramas reducidos: 0.0757193336698637\n",
      "Porcentaje de fotogramas reducidos: 0.12711094970038134\n",
      "Porcentaje de fotogramas reducidos: 0.2963511761437303\n",
      "Porcentaje de fotogramas reducidos: 0.20526217577906325\n",
      "Porcentaje de fotogramas reducidos: 0.5354200988467874\n",
      "Porcentaje de fotogramas reducidos: 0.18785222291797118\n",
      "Porcentaje de fotogramas reducidos: 0.22701475595913734\n",
      "Porcentaje de fotogramas reducidos: 0.07107320540156362\n",
      "Porcentaje de fotogramas reducidos: 0.17724782468578795\n"
     ]
    },
    {
     "data": {
      "image/png": "[encoded data removed]",
      "text/plain": [
       "<Figure size 432x288 with 1 Axes>"
      ]
     },
     "metadata": {
      "needs_background": "light"
     },
     "output_type": "display_data"
    }
   ],
   "source": [
    "# Introduzca el error y resuma los videos\n",
    "if __name__== \"__main__\":\n",
    "            video_paths = glob(\"Videos/*\")\n",
    "            save_dir = \"save\"\n",
    "            \n",
    "            for path in video_paths:\n",
    "                save_frame(path, save_dir)\n",
    "\n",
    "       "
   ]
  },
  {
   "cell_type": "code",
   "execution_count": null,
   "id": "4a29ff73",
   "metadata": {},
   "outputs": [],
   "source": []
  }
 ],
 "metadata": {
  "kernelspec": {
   "display_name": "Python 3 (ipykernel)",
   "language": "python",
   "name": "python3"
  },
  "language_info": {
   "codemirror_mode": {
    "name": "ipython",
    "version": 3
   },
   "file_extension": ".py",
   "mimetype": "text/x-python",
   "name": "python",
   "nbconvert_exporter": "python",
   "pygments_lexer": "ipython3",
   "version": "3.7.9"
  }
 },
 "nbformat": 4,
 "nbformat_minor": 5
}
